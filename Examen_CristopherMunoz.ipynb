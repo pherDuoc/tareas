{
  "nbformat": 4,
  "nbformat_minor": 0,
  "metadata": {
    "colab": {
      "provenance": [],
      "authorship_tag": "ABX9TyN/up7j1nhdbqT8tP22ySgi",
      "include_colab_link": true
    },
    "kernelspec": {
      "name": "python3",
      "display_name": "Python 3"
    },
    "language_info": {
      "name": "python"
    }
  },
  "cells": [
    {
      "cell_type": "markdown",
      "metadata": {
        "id": "view-in-github",
        "colab_type": "text"
      },
      "source": [
        "<a href=\"https://colab.research.google.com/github/pherDuoc/tareas/blob/main/Examen_CristopherMunoz.ipynb\" target=\"_parent\"><img src=\"https://colab.research.google.com/assets/colab-badge.svg\" alt=\"Open In Colab\"/></a>"
      ]
    },
    {
      "cell_type": "code",
      "execution_count": null,
      "metadata": {
        "id": "2J08TLtpPDJZ"
      },
      "outputs": [],
      "source": [
        "asientos=[\"Asientos Disponibles\",1,2,3,4,5,6,7,8,9,10,\n",
        "          11,12,13,14,15,16,17,18,19,20,\n",
        "          21,22,23,24,25,26,27,28,29,30,\n",
        "          31,32,33,34,35,36,37,38,39,40,\n",
        "          41,42,43,44,45,46,47,48,49,50,\n",
        "          51,52,53,54,55,56,57,58,59,60,\n",
        "          61,62,63,64,65,66,67,68,69,70,\n",
        "          71,72,73,74,75,76,77,78,79,80,\n",
        "          81,82,83,84,85,86,87,88,89,90,\n",
        "          91,92,93,94,95,96,97,98,99,100]\n",
        "\n",
        "registro=[]\n",
        "\n",
        "dinero=0\n",
        "\n",
        "def comprar():\n",
        "  global dinero\n",
        "  rut=input(\"Ingrese su rut sin guiones, puntos y sin numero verificador: \")\n",
        "  if len(rut)==8:\n",
        "    com=int(input(\"Ingrese entrada deseada: \"))\n",
        "    if com >=1 and com <=20:\n",
        "      for x in asientos:\n",
        "        if x == com:\n",
        "          asientos[com]=\"Reservado\"\n",
        "          registro.append([\"Rut=\",rut,\"Entrada Platinum, n° asiento=\",com])\n",
        "          print(\"Registrado\")\n",
        "          dinero=dinero+120000\n",
        "    elif com >=21 and com <=50:\n",
        "      for x in asientos:\n",
        "        if x == com:\n",
        "          asientos[com]=\"Reservado\"\n",
        "          registro.append([\"Rut=\",rut,\"Entrada Gold, n° asiento=\",com])\n",
        "          print(\"Registrado\")\n",
        "          dinero=dinero+80000\n",
        "    elif com >=51 and com <=100:\n",
        "      for x in asientos:\n",
        "        if x == com:\n",
        "          asientos[com]=\"Reservado\"\n",
        "          registro.append([\"Rut=\",rut,\"Entrada Silver, n° asiento=\",com])\n",
        "          print(\"Registrado\")\n",
        "          dinero=dinero+50000\n",
        "  else:\n",
        "    print(\"Opcion invalida\")\n",
        "    return comprar()\n",
        "\n",
        "\n",
        "def mostrar():\n",
        "  print(asientos)\n",
        "\n",
        "def ver():\n",
        "  print(\"Lista de asistentes\")\n",
        "  print(registro)\n",
        "\n",
        "def ganancias():\n",
        "  print(\"Ganancias\")\n",
        "  print(f\"El monto recaudado es de:\",dinero)\n",
        "\n",
        "def menu():\n",
        "  sw=1\n",
        "  while sw==1:\n",
        "    try:\n",
        "      print(\" \\n Creativos.cl \\n \")\n",
        "      print(\" 1-Comprar entradas \\n 2-Mostrar ubicaciones disponibles \\n 3-Ver listado de asistentes \\n 4-Mostrar ganancias totales \\n 5-Salir\")\n",
        "      op=int(input(\"Ingrese opcion deseada: \"))\n",
        "      if op==1:\n",
        "        comprar()\n",
        "      elif op==2:\n",
        "        mostrar()\n",
        "      elif op==3:\n",
        "        ver()\n",
        "      elif op==4:\n",
        "        ganancias()\n",
        "      elif op==5:\n",
        "        print(\"Gracias por venir\")\n",
        "        break\n",
        "    except:\n",
        "      print(\"Opcion invalida\")\n",
        "\n",
        "\n",
        "menu()"
      ]
    }
  ]
}